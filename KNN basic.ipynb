{
 "cells": [
  {
   "cell_type": "code",
   "execution_count": 1,
   "id": "4081eb35",
   "metadata": {},
   "outputs": [],
   "source": [
    "#training data\n",
    "x= [[0],[1],[2],[3]]\n",
    "y= [0,0,1,1]"
   ]
  },
  {
   "cell_type": "code",
   "execution_count": 2,
   "id": "b41694c2",
   "metadata": {},
   "outputs": [],
   "source": [
    "#importing SKLearn KNN\n",
    "from sklearn.neighbors import KNeighborsClassifier"
   ]
  },
  {
   "cell_type": "code",
   "execution_count": 3,
   "id": "b4b6c6ce",
   "metadata": {
    "scrolled": true
   },
   "outputs": [
    {
     "data": {
      "text/plain": [
       "KNeighborsClassifier(n_neighbors=3)"
      ]
     },
     "execution_count": 3,
     "metadata": {},
     "output_type": "execute_result"
    }
   ],
   "source": [
    "neigh = KNeighborsClassifier(n_neighbors=3)\n",
    "#Defining k\n",
    "neigh.fit(x,y)\n",
    "#making the classifier and train it"
   ]
  },
  {
   "cell_type": "code",
   "execution_count": 4,
   "id": "d79ef400",
   "metadata": {},
   "outputs": [
    {
     "name": "stdout",
     "output_type": "stream",
     "text": [
      "[0 0 0 1]\n"
     ]
    }
   ],
   "source": [
    "#predicting the value\n",
    "print(neigh.predict([[0.9],[1.1],[1.5],[3.3]]))"
   ]
  },
  {
   "cell_type": "code",
   "execution_count": null,
   "id": "12da1196",
   "metadata": {},
   "outputs": [],
   "source": []
  }
 ],
 "metadata": {
  "kernelspec": {
   "display_name": "Python 3 (ipykernel)",
   "language": "python",
   "name": "python3"
  },
  "language_info": {
   "codemirror_mode": {
    "name": "ipython",
    "version": 3
   },
   "file_extension": ".py",
   "mimetype": "text/x-python",
   "name": "python",
   "nbconvert_exporter": "python",
   "pygments_lexer": "ipython3",
   "version": "3.9.12"
  }
 },
 "nbformat": 4,
 "nbformat_minor": 5
}
