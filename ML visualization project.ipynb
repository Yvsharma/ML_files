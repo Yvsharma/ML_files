{
 "cells": [
  {
   "cell_type": "code",
   "execution_count": null,
   "id": "22e19b44",
   "metadata": {},
   "outputs": [],
   "source": [
    "import pandas as pd\n",
    "import numpy as np\n",
    "from sklearn import model_selection\n",
    "from sklearn.linear_model import LinearRegression\n",
    "import matplotlib.pyplot as plt\n",
    "\n",
    "#Importing and reading file using pandas\n",
    "df = pd.read_csv('lrdata.csv')\n",
    "df.head()\n",
    "\n",
    "#Using multi linear regression as the values are continuous where x are independent\n",
    "#values and y : dependent values\n",
    "y = df['time']\n",
    "x = df[['cases','increasingrate','decreasingrate']]\n",
    "\n",
    "#Function named CasesReg for using linear regression model and training the model\n",
    "#with given values\n",
    "def CasesReg(x,y):\n",
    "  from sklearn.linear_model import LinearRegression\n",
    "  reg = LinearRegression()\n",
    "  reg.fit(x,y)\n",
    "  return reg\n",
    "\n",
    "\n",
    "#train_test_split is a function in Sklearn model selection for splitting data \n",
    "#arrays into two subsets: for training data and for testing data. \n",
    "#With this function, you don't need to divide the dataset manually.\n",
    "x_train, x_test, y_train, y_test = model_selection.train_test_split(x,y)\n",
    "\n",
    "#Passing training data to my Linear regression model\n",
    "reg = CasesReg(x_train,y_train)\n",
    "\n",
    "#Using predict to get predicted values of y\n",
    "y_pred = reg.predict(x_test)\n",
    "y_pred\n",
    "\n",
    "#Calculating efficiency. It internally calculates y_pred again and gives the \n",
    "#efficiency\n",
    "reg.score(x_test,y_test)\n",
    "\n",
    "#Plotting graph using matplotlib.\n",
    "plt.plot(x,reg.predict(x),'*')\n",
    "plt.legend(labels=['cases','increasingrate','decreasingrate'])\n",
    "plt.xlabel(\"Cases Rate\")\n",
    "plt.ylabel(\"Time\")\n",
    "plt.show()"
   ]
  }
 ],
 "metadata": {
  "kernelspec": {
   "display_name": "Python 3 (ipykernel)",
   "language": "python",
   "name": "python3"
  },
  "language_info": {
   "codemirror_mode": {
    "name": "ipython",
    "version": 3
   },
   "file_extension": ".py",
   "mimetype": "text/x-python",
   "name": "python",
   "nbconvert_exporter": "python",
   "pygments_lexer": "ipython3",
   "version": "3.9.12"
  }
 },
 "nbformat": 4,
 "nbformat_minor": 5
}
