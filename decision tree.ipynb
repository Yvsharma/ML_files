{
 "cells": [
  {
   "cell_type": "code",
   "execution_count": 1,
   "id": "c2a5c676",
   "metadata": {},
   "outputs": [],
   "source": [
    "##importing\n",
    "\n",
    "from sklearn import tree"
   ]
  },
  {
   "cell_type": "code",
   "execution_count": 2,
   "id": "a37eff3a",
   "metadata": {},
   "outputs": [
    {
     "data": {
      "text/plain": [
       "array([1])"
      ]
     },
     "execution_count": 2,
     "metadata": {},
     "output_type": "execute_result"
    }
   ],
   "source": [
    "x=[[0,0],[1,1]]\n",
    "y=[0,1]\n",
    "\n",
    "#tRAINING CLASSIFIER WITH DATA SET\n",
    "clf=tree.DecisionTreeClassifier()\n",
    "clf=clf.fit(x,y)\n",
    "\n",
    "## PREDICTING DATA\n",
    "\n",
    "clf.predict([[2. ,2.]])"
   ]
  },
  {
   "cell_type": "code",
   "execution_count": null,
   "id": "37ab1fe2",
   "metadata": {},
   "outputs": [],
   "source": []
  }
 ],
 "metadata": {
  "kernelspec": {
   "display_name": "Python 3 (ipykernel)",
   "language": "python",
   "name": "python3"
  },
  "language_info": {
   "codemirror_mode": {
    "name": "ipython",
    "version": 3
   },
   "file_extension": ".py",
   "mimetype": "text/x-python",
   "name": "python",
   "nbconvert_exporter": "python",
   "pygments_lexer": "ipython3",
   "version": "3.9.12"
  }
 },
 "nbformat": 4,
 "nbformat_minor": 5
}
