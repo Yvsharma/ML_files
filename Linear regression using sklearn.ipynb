{
 "cells": [
  {
   "cell_type": "code",
   "execution_count": 1,
   "id": "e394395c",
   "metadata": {},
   "outputs": [],
   "source": [
    "import numpy\n",
    "import random\n"
   ]
  },
  {
   "cell_type": "code",
   "execution_count": 2,
   "id": "24f398c0",
   "metadata": {},
   "outputs": [],
   "source": [
    "random.seed (42)\n",
    "numpy.random.seed(42)"
   ]
  },
  {
   "cell_type": "code",
   "execution_count": 7,
   "id": "5602f728",
   "metadata": {},
   "outputs": [],
   "source": [
    "ages=[]\n",
    "for ii in range(100):\n",
    "    ages.append (random.randint(20,65))\n",
    "net_worths= [ii * 6.25 + numpy.random.normal (scale=40.) for ii in ages]\n",
    "\n",
    "### need massage list into a 2d array to get it to work in Linear Regression\n",
    "\n",
    "ages= numpy.reshape(numpy.array(ages), (len(ages),1))\n",
    "net_worths= numpy.reshape(numpy.array(net_worths),(len(net_worths),1) )\n",
    "\n",
    "from sklearn.model_selection import train_test_split\n",
    "ages_train, ages_test, net_worths_train, net_worths_test = train_test_split(ages, net_worths)\n"
   ]
  },
  {
   "cell_type": "code",
   "execution_count": 11,
   "id": "c03ee8a2",
   "metadata": {},
   "outputs": [
    {
     "name": "stdout",
     "output_type": "stream",
     "text": [
      "Hello\n",
      "predicted [[6.67193464]]\n",
      "predicted [-14.15715574]\n"
     ]
    }
   ],
   "source": [
    "\n",
    "def studentReg (ages_train , net_worths_train):\n",
    "    from sklearn.linear_model import LinearRegression\n",
    "    reg = LinearRegression()\n",
    "    reg.fit(ages_train, net_worths_train)\n",
    "    return reg\n",
    "\n",
    "reg= studentReg(ages_train,  net_worths_train)\n",
    "print(\"Hello\")\n",
    "print(\"predicted\", reg.coef_)\n",
    "print(\"predicted\", reg.intercept_)\n"
   ]
  },
  {
   "cell_type": "code",
   "execution_count": 12,
   "id": "9e06dbad",
   "metadata": {},
   "outputs": [
    {
     "name": "stdout",
     "output_type": "stream",
     "text": [
      "coefficient [[6.67193464]]\n",
      "sloop [-14.15715574]\n"
     ]
    }
   ],
   "source": [
    "reg= studentReg(ages_train,  net_worths_train)\n",
    "\n",
    "print(\"coefficient\", reg.coef_)\n",
    "print(\"sloop\", reg.intercept_)"
   ]
  },
  {
   "cell_type": "code",
   "execution_count": null,
   "id": "64f4984b",
   "metadata": {},
   "outputs": [],
   "source": []
  }
 ],
 "metadata": {
  "kernelspec": {
   "display_name": "Python 3 (ipykernel)",
   "language": "python",
   "name": "python3"
  },
  "language_info": {
   "codemirror_mode": {
    "name": "ipython",
    "version": 3
   },
   "file_extension": ".py",
   "mimetype": "text/x-python",
   "name": "python",
   "nbconvert_exporter": "python",
   "pygments_lexer": "ipython3",
   "version": "3.9.12"
  }
 },
 "nbformat": 4,
 "nbformat_minor": 5
}
